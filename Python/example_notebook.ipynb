{
 "cells": [
  {
   "cell_type": "markdown",
   "metadata": {},
   "source": [
    "# Setup\n",
    "\n",
    "This notebook deomstrates how to create a basic `nipype` pipeline with `QUIT` programs. The `nanslice` package will be used to display the outputs.\n",
    "\n",
    "This pipeline downloads the BrainWeb \"crisp\" brain phantom from http://brainweb.bic.mni.mcgill.ca. It then replaces the tissue classification labels with values of Proton Density and T1, simulates an SPGR/FLASH image with some added noise, and finally uses that simulated data to fit for T1 and PD again."
   ]
  },
  {
   "cell_type": "markdown",
   "metadata": {},
   "source": [
    "## Imports and Data Fetching"
   ]
  },
  {
   "cell_type": "code",
   "execution_count": null,
   "metadata": {
    "inputHidden": false,
    "outputHidden": false
   },
   "outputs": [],
   "source": [
    "%matplotlib inline\n",
    "from QUIT.nipype.relaxometry import QIDespot1, QIDespot1Sim, QIDespot2\n",
    "from nanslice import Layer\n",
    "import nanslice.jupyter as ns\n",
    "import nibabel as nib\n",
    "import numpy as np\n",
    "import requests\n",
    "import gzip\n",
    "import os.path"
   ]
  },
  {
   "cell_type": "code",
   "execution_count": null,
   "metadata": {},
   "outputs": [],
   "source": [
    "if not os.path.isfile('classes.mnc'): \n",
    "    params = {'download_for_real':'[Start Download!]',\n",
    "              'do_download_alias':'phantom_1.0mm_normal_crisp',\n",
    "              'format_value':'minc',\n",
    "              'who_name': 'Tobias Wood',\n",
    "              'who_institution': 'KCL',\n",
    "              'who_email': 'tobias.wood@kcl.ac.uk'}\n",
    "    response = requests.get(url='http://brainweb.bic.mni.mcgill.ca/cgi/brainweb1', params=params)\n",
    "    minc_file = open('classes.mnc', 'wb')\n",
    "    minc_file.write(response.content)\n",
    "classes = Layer('classes.mnc')"
   ]
  },
  {
   "cell_type": "code",
   "execution_count": null,
   "metadata": {},
   "outputs": [],
   "source": [
    "ns.three_plane(classes)"
   ]
  },
  {
   "cell_type": "markdown",
   "metadata": {},
   "source": [
    "## Create Reference Data"
   ]
  },
  {
   "cell_type": "code",
   "execution_count": null,
   "metadata": {},
   "outputs": [],
   "source": [
    "# 0=Background\n",
    "# 1=CSF\n",
    "# 2=Grey Matter\n",
    "# 3=White Matter\n",
    "# 4=Fat\n",
    "# 5=Muscle/Skin\n",
    "# 6=Skin\n",
    "# 7=Skull\n",
    "# 8=Glial Matter\n",
    "# 9=Connective\n",
    "PDvals = np.array([0, 1, 0.8, 0.7, 0, 0, 0, 0, 0, 0])\n",
    "T1vals = np.array([0, 3.0, 1.1, 0.9, 0, 0, 0, 0, 0, 0])\n",
    "class_data = classes.image.get_data().astype('int32')\n",
    "PDdata = np.choose(class_data, PDvals).astype('float32')\n",
    "T1data = np.choose(class_data, T1vals).astype('float32')\n",
    "# PDdata = np.array(list(map(PDFunc, classes.image.get_data())))\n",
    "PDimage = nib.nifti1.Nifti1Image(PDdata, affine=classes.image.affine)\n",
    "T1image = nib.nifti1.Nifti1Image(T1data, affine=classes.image.affine)\n",
    "nib.save(PDimage, 'PD.nii.gz')\n",
    "nib.save(T1image, 'T1.nii.gz')"
   ]
  },
  {
   "cell_type": "markdown",
   "metadata": {},
   "source": [
    "## Simulate and Display Image"
   ]
  },
  {
   "cell_type": "code",
   "execution_count": null,
   "metadata": {},
   "outputs": [],
   "source": [
    "spgr_params = {'SPGR': {'TR': 10e-3, 'FA': [3, 18]}, 'T1File': 'T1.nii.gz', 'PDFile': 'PD.nii.gz'}\n",
    "d1sim = QIDespot1Sim(param_dict=spgr_params)\n",
    "d1sim.inputs.spgr_file = 'sim_spgr.nii.gz'\n",
    "d1sim.inputs.verbose = False\n",
    "d1sim.inputs.noise = 0.001\n",
    "d1sim_result = d1sim.run()"
   ]
  },
  {
   "cell_type": "code",
   "execution_count": null,
   "metadata": {},
   "outputs": [],
   "source": [
    "spgr = Layer(d1sim_result.outputs.spgr_image, volume=0)\n",
    "display(ns.three_plane(spgr))\n",
    "spgr.volume = 1\n",
    "display(ns.three_plane(spgr))"
   ]
  },
  {
   "cell_type": "markdown",
   "metadata": {},
   "source": [
    "## Run DESPOT1 and Compare Results to Reference"
   ]
  },
  {
   "cell_type": "code",
   "execution_count": null,
   "metadata": {
    "inputHidden": false,
    "outputHidden": false
   },
   "outputs": [],
   "source": [
    "d1 = QIDespot1(param_dict=spgr_params)\n",
    "d1.inputs.spgr_file = 'sim_spgr.nii.gz'\n",
    "d1.inputs.verbose = False\n",
    "d1.inputs.clamp_T1 = 5.0\n",
    "d1_result = d1.run()"
   ]
  },
  {
   "cell_type": "code",
   "execution_count": null,
   "metadata": {},
   "outputs": [],
   "source": [
    "display(ns.three_plane(Layer('PD.nii.gz', label='PD (Arb Units)'), cbar=True))\n",
    "display(ns.three_plane(Layer('T1.nii.gz', clim=(0, 2.0), cmap='plasma', label='T1 (s)'), cbar=True))"
   ]
  },
  {
   "cell_type": "code",
   "execution_count": null,
   "metadata": {
    "inputHidden": false,
    "outputHidden": false
   },
   "outputs": [],
   "source": [
    "display(ns.three_plane(Layer('D1_PD.nii.gz', label='PD (Arb Units)'), cbar=True))\n",
    "display(ns.three_plane(Layer('D1_T1.nii.gz', clim=(0, 2.0), cmap='plasma', label='T1 (s)'), cbar=True))"
   ]
  }
 ],
 "metadata": {
  "kernel_info": {
   "name": "python3"
  },
  "kernelspec": {
   "display_name": "Python 3",
   "language": "python",
   "name": "python3"
  },
  "language_info": {
   "codemirror_mode": {
    "name": "ipython",
    "version": 3
   },
   "file_extension": ".py",
   "mimetype": "text/x-python",
   "name": "python",
   "nbconvert_exporter": "python",
   "pygments_lexer": "ipython3",
   "version": "3.6.6"
  },
  "nteract": {
   "version": "0.8.4"
  }
 },
 "nbformat": 4,
 "nbformat_minor": 4
}
